{
 "cells": [
  {
   "cell_type": "markdown",
   "metadata": {},
   "source": [
    "# Fierce Research 20-day EMA Trading Model\n",
    "\n",
    "Inspired by the SentimenTrader Python video, I leveraged this coding opportunity to enhance my skills and to benefit from identifying the shift from risk-on to risk-off environments accurately. \n",
    "\n",
    "I followed the 5-minute video to build the codes, and I give total credit to the author as it relates to the idea, model average return, and drawdown calculations. It was a great coding experience, and a new trading strategy to benefit from a change in risk-on to risk-off market sentiment.\n",
    "\n",
    "I added my personal touch by choosing a different benchmark to trigger the signal, and I removed one of the original buy signal parameters. I also added a correlation analysis between equities and bonds over 15 and four years.\n",
    "\n",
    "Instruments:\n",
    "- Nasdaq 100 Index: QQQ\n",
    "- Russell 1000 Index: IWB\n",
    "- 20+ Year US Treasury: TLT\n",
    "\n",
    "Strategy:\n",
    "- Buy QQQ when IWB is trading above the 20-day EMA, and buy TLT when the IWB is trading below the 20-day EMA. It is that simple.\n",
    "\n",
    "\n",
    "Source: https://www.youtube.com/watch?v=9GQdySz0I6s"
   ]
  },
  {
   "cell_type": "markdown",
   "metadata": {},
   "source": [
    "#### Import Packages"
   ]
  },
  {
   "cell_type": "code",
   "execution_count": 218,
   "metadata": {},
   "outputs": [],
   "source": [
    "import numpy as np\n",
    "import pandas as pd\n",
    "from PIL import Image\n",
    "\n",
    "#Charting\n",
    "import matplotlib.pyplot as plt\n",
    "%matplotlib inline\n",
    "plt.style.use('seaborn-dark-palette')\n",
    "import seaborn as sns\n",
    "\n",
    "#Ignore Warnings\n",
    "import warnings \n",
    "warnings.filterwarnings('ignore')"
   ]
  },
  {
   "cell_type": "markdown",
   "metadata": {},
   "source": [
    "#### Import Data"
   ]
  },
  {
   "cell_type": "code",
   "execution_count": 219,
   "metadata": {},
   "outputs": [
    {
     "data": {
      "text/html": [
       "<div>\n",
       "<style scoped>\n",
       "    .dataframe tbody tr th:only-of-type {\n",
       "        vertical-align: middle;\n",
       "    }\n",
       "\n",
       "    .dataframe tbody tr th {\n",
       "        vertical-align: top;\n",
       "    }\n",
       "\n",
       "    .dataframe thead th {\n",
       "        text-align: right;\n",
       "    }\n",
       "</style>\n",
       "<table border=\"1\" class=\"dataframe\">\n",
       "  <thead>\n",
       "    <tr style=\"text-align: right;\">\n",
       "      <th></th>\n",
       "      <th>instrument</th>\n",
       "      <th>price close</th>\n",
       "    </tr>\n",
       "    <tr>\n",
       "      <th>Date</th>\n",
       "      <th></th>\n",
       "      <th></th>\n",
       "    </tr>\n",
       "  </thead>\n",
       "  <tbody>\n",
       "    <tr>\n",
       "      <th>2020-06-25</th>\n",
       "      <td>IWB</td>\n",
       "      <td>170.75</td>\n",
       "    </tr>\n",
       "    <tr>\n",
       "      <th>2020-06-24</th>\n",
       "      <td>IWB</td>\n",
       "      <td>168.87</td>\n",
       "    </tr>\n",
       "    <tr>\n",
       "      <th>2020-06-23</th>\n",
       "      <td>IWB</td>\n",
       "      <td>173.37</td>\n",
       "    </tr>\n",
       "    <tr>\n",
       "      <th>2020-06-22</th>\n",
       "      <td>IWB</td>\n",
       "      <td>172.81</td>\n",
       "    </tr>\n",
       "    <tr>\n",
       "      <th>2020-06-19</th>\n",
       "      <td>IWB</td>\n",
       "      <td>171.66</td>\n",
       "    </tr>\n",
       "    <tr>\n",
       "      <th>...</th>\n",
       "      <td>...</td>\n",
       "      <td>...</td>\n",
       "    </tr>\n",
       "    <tr>\n",
       "      <th>2004-08-17</th>\n",
       "      <td>TLT.O</td>\n",
       "      <td>86.83</td>\n",
       "    </tr>\n",
       "    <tr>\n",
       "      <th>2004-08-16</th>\n",
       "      <td>TLT.O</td>\n",
       "      <td>86.34</td>\n",
       "    </tr>\n",
       "    <tr>\n",
       "      <th>2004-08-13</th>\n",
       "      <td>TLT.O</td>\n",
       "      <td>86.64</td>\n",
       "    </tr>\n",
       "    <tr>\n",
       "      <th>2004-08-10</th>\n",
       "      <td>TLT.O</td>\n",
       "      <td>85.81</td>\n",
       "    </tr>\n",
       "    <tr>\n",
       "      <th>2004-08-09</th>\n",
       "      <td>TLT.O</td>\n",
       "      <td>86.12</td>\n",
       "    </tr>\n",
       "  </tbody>\n",
       "</table>\n",
       "<p>9308 rows × 2 columns</p>\n",
       "</div>"
      ],
      "text/plain": [
       "           instrument  price close\n",
       "Date                              \n",
       "2020-06-25        IWB       170.75\n",
       "2020-06-24        IWB       168.87\n",
       "2020-06-23        IWB       173.37\n",
       "2020-06-22        IWB       172.81\n",
       "2020-06-19        IWB       171.66\n",
       "...               ...          ...\n",
       "2004-08-17      TLT.O        86.83\n",
       "2004-08-16      TLT.O        86.34\n",
       "2004-08-13      TLT.O        86.64\n",
       "2004-08-10      TLT.O        85.81\n",
       "2004-08-09      TLT.O        86.12\n",
       "\n",
       "[9308 rows x 2 columns]"
      ]
     },
     "execution_count": 219,
     "metadata": {},
     "output_type": "execute_result"
    }
   ],
   "source": [
    "#Import App Key\n",
    "import eikon as tr\n",
    "tr.set_app_key('Appkey')\n",
    "\n",
    "start_date = '0'\n",
    "end_date = '-4000'\n",
    "\n",
    "ric1 = 'IWB'\n",
    "ric2 = 'QQQ.O'\n",
    "ric3 = 'TLT.O'\n",
    "\n",
    "df1, e= tr.get_data([ric1,ric2,ric3],['tr.priceclose.date','tr.priceclose'],\n",
    "                       {'SDate':start_date,'EDate':end_date,'Frq':'D'})\n",
    "\n",
    "df1['Date'] = pd.to_datetime(df1['Date'])\n",
    "df1.set_index('Date', inplace=True) \n",
    "df1.index = df1.index.map(lambda t: t.strftime('%Y-%m-%d'))\n",
    "df1.columns = map(str.lower, df1.columns)\n",
    "df1 = df1.drop_duplicates()\n",
    "df1"
   ]
  },
  {
   "cell_type": "markdown",
   "metadata": {},
   "source": [
    "#### Modify Columns"
   ]
  },
  {
   "cell_type": "code",
   "execution_count": 220,
   "metadata": {},
   "outputs": [
    {
     "data": {
      "text/html": [
       "<div>\n",
       "<style scoped>\n",
       "    .dataframe tbody tr th:only-of-type {\n",
       "        vertical-align: middle;\n",
       "    }\n",
       "\n",
       "    .dataframe tbody tr th {\n",
       "        vertical-align: top;\n",
       "    }\n",
       "\n",
       "    .dataframe thead tr th {\n",
       "        text-align: left;\n",
       "    }\n",
       "\n",
       "    .dataframe thead tr:last-of-type th {\n",
       "        text-align: right;\n",
       "    }\n",
       "</style>\n",
       "<table border=\"1\" class=\"dataframe\">\n",
       "  <thead>\n",
       "    <tr>\n",
       "      <th></th>\n",
       "      <th colspan=\"3\" halign=\"left\">price close</th>\n",
       "      <th>IWB</th>\n",
       "      <th>QQQ</th>\n",
       "      <th>TLT</th>\n",
       "    </tr>\n",
       "    <tr>\n",
       "      <th>instrument</th>\n",
       "      <th>IWB</th>\n",
       "      <th>QQQ.O</th>\n",
       "      <th>TLT.O</th>\n",
       "      <th></th>\n",
       "      <th></th>\n",
       "      <th></th>\n",
       "    </tr>\n",
       "    <tr>\n",
       "      <th>Date</th>\n",
       "      <th></th>\n",
       "      <th></th>\n",
       "      <th></th>\n",
       "      <th></th>\n",
       "      <th></th>\n",
       "      <th></th>\n",
       "    </tr>\n",
       "  </thead>\n",
       "  <tbody>\n",
       "    <tr>\n",
       "      <th>2020-06-19</th>\n",
       "      <td>171.66</td>\n",
       "      <td>244.24</td>\n",
       "      <td>162.39</td>\n",
       "      <td>171.66</td>\n",
       "      <td>244.24</td>\n",
       "      <td>162.39</td>\n",
       "    </tr>\n",
       "    <tr>\n",
       "      <th>2020-06-22</th>\n",
       "      <td>172.81</td>\n",
       "      <td>246.74</td>\n",
       "      <td>162.41</td>\n",
       "      <td>172.81</td>\n",
       "      <td>246.74</td>\n",
       "      <td>162.41</td>\n",
       "    </tr>\n",
       "    <tr>\n",
       "      <th>2020-06-23</th>\n",
       "      <td>173.37</td>\n",
       "      <td>248.84</td>\n",
       "      <td>161.30</td>\n",
       "      <td>173.37</td>\n",
       "      <td>248.84</td>\n",
       "      <td>161.30</td>\n",
       "    </tr>\n",
       "    <tr>\n",
       "      <th>2020-06-24</th>\n",
       "      <td>168.87</td>\n",
       "      <td>243.71</td>\n",
       "      <td>163.03</td>\n",
       "      <td>168.87</td>\n",
       "      <td>243.71</td>\n",
       "      <td>163.03</td>\n",
       "    </tr>\n",
       "    <tr>\n",
       "      <th>2020-06-25</th>\n",
       "      <td>170.75</td>\n",
       "      <td>246.03</td>\n",
       "      <td>163.50</td>\n",
       "      <td>170.75</td>\n",
       "      <td>246.03</td>\n",
       "      <td>163.50</td>\n",
       "    </tr>\n",
       "  </tbody>\n",
       "</table>\n",
       "</div>"
      ],
      "text/plain": [
       "           price close                     IWB     QQQ     TLT\n",
       "instrument         IWB   QQQ.O   TLT.O                        \n",
       "Date                                                          \n",
       "2020-06-19      171.66  244.24  162.39  171.66  244.24  162.39\n",
       "2020-06-22      172.81  246.74  162.41  172.81  246.74  162.41\n",
       "2020-06-23      173.37  248.84  161.30  173.37  248.84  161.30\n",
       "2020-06-24      168.87  243.71  163.03  168.87  243.71  163.03\n",
       "2020-06-25      170.75  246.03  163.50  170.75  246.03  163.50"
      ]
     },
     "execution_count": 220,
     "metadata": {},
     "output_type": "execute_result"
    }
   ],
   "source": [
    "df1 = df1.pivot(columns='instrument', values=['price close'])\n",
    "df1['IWB'] = df1['price close']['IWB']\n",
    "df1['QQQ'] = df1['price close']['QQQ.O']\n",
    "df1['TLT'] = df1['price close']['TLT.O']\n",
    "df1.tail()"
   ]
  },
  {
   "cell_type": "markdown",
   "metadata": {},
   "source": [
    "#### Calculate The Inputs To The Model"
   ]
  },
  {
   "cell_type": "code",
   "execution_count": 221,
   "metadata": {},
   "outputs": [
    {
     "data": {
      "text/html": [
       "<div>\n",
       "<style scoped>\n",
       "    .dataframe tbody tr th:only-of-type {\n",
       "        vertical-align: middle;\n",
       "    }\n",
       "\n",
       "    .dataframe tbody tr th {\n",
       "        vertical-align: top;\n",
       "    }\n",
       "\n",
       "    .dataframe thead tr th {\n",
       "        text-align: left;\n",
       "    }\n",
       "\n",
       "    .dataframe thead tr:last-of-type th {\n",
       "        text-align: right;\n",
       "    }\n",
       "</style>\n",
       "<table border=\"1\" class=\"dataframe\">\n",
       "  <thead>\n",
       "    <tr>\n",
       "      <th></th>\n",
       "      <th colspan=\"3\" halign=\"left\">price close</th>\n",
       "      <th>IWB</th>\n",
       "      <th>QQQ</th>\n",
       "      <th>TLT</th>\n",
       "      <th>QQQ % change</th>\n",
       "      <th>TLT % change</th>\n",
       "      <th>20 ema</th>\n",
       "    </tr>\n",
       "    <tr>\n",
       "      <th>instrument</th>\n",
       "      <th>IWB</th>\n",
       "      <th>QQQ.O</th>\n",
       "      <th>TLT.O</th>\n",
       "      <th></th>\n",
       "      <th></th>\n",
       "      <th></th>\n",
       "      <th></th>\n",
       "      <th></th>\n",
       "      <th></th>\n",
       "    </tr>\n",
       "    <tr>\n",
       "      <th>Date</th>\n",
       "      <th></th>\n",
       "      <th></th>\n",
       "      <th></th>\n",
       "      <th></th>\n",
       "      <th></th>\n",
       "      <th></th>\n",
       "      <th></th>\n",
       "      <th></th>\n",
       "      <th></th>\n",
       "    </tr>\n",
       "  </thead>\n",
       "  <tbody>\n",
       "    <tr>\n",
       "      <th>2020-06-19</th>\n",
       "      <td>171.66</td>\n",
       "      <td>244.24</td>\n",
       "      <td>162.39</td>\n",
       "      <td>171.66</td>\n",
       "      <td>244.24</td>\n",
       "      <td>162.39</td>\n",
       "      <td>-0.000164</td>\n",
       "      <td>0.000801</td>\n",
       "      <td>170.263548</td>\n",
       "    </tr>\n",
       "    <tr>\n",
       "      <th>2020-06-22</th>\n",
       "      <td>172.81</td>\n",
       "      <td>246.74</td>\n",
       "      <td>162.41</td>\n",
       "      <td>172.81</td>\n",
       "      <td>246.74</td>\n",
       "      <td>162.41</td>\n",
       "      <td>0.010236</td>\n",
       "      <td>0.000123</td>\n",
       "      <td>170.506067</td>\n",
       "    </tr>\n",
       "    <tr>\n",
       "      <th>2020-06-23</th>\n",
       "      <td>173.37</td>\n",
       "      <td>248.84</td>\n",
       "      <td>161.30</td>\n",
       "      <td>173.37</td>\n",
       "      <td>248.84</td>\n",
       "      <td>161.30</td>\n",
       "      <td>0.008511</td>\n",
       "      <td>-0.006835</td>\n",
       "      <td>170.778823</td>\n",
       "    </tr>\n",
       "    <tr>\n",
       "      <th>2020-06-24</th>\n",
       "      <td>168.87</td>\n",
       "      <td>243.71</td>\n",
       "      <td>163.03</td>\n",
       "      <td>168.87</td>\n",
       "      <td>243.71</td>\n",
       "      <td>163.03</td>\n",
       "      <td>-0.020616</td>\n",
       "      <td>0.010725</td>\n",
       "      <td>170.597030</td>\n",
       "    </tr>\n",
       "    <tr>\n",
       "      <th>2020-06-25</th>\n",
       "      <td>170.75</td>\n",
       "      <td>246.03</td>\n",
       "      <td>163.50</td>\n",
       "      <td>170.75</td>\n",
       "      <td>246.03</td>\n",
       "      <td>163.50</td>\n",
       "      <td>0.009520</td>\n",
       "      <td>0.002883</td>\n",
       "      <td>170.611599</td>\n",
       "    </tr>\n",
       "  </tbody>\n",
       "</table>\n",
       "</div>"
      ],
      "text/plain": [
       "           price close                     IWB     QQQ     TLT QQQ % change  \\\n",
       "instrument         IWB   QQQ.O   TLT.O                                        \n",
       "Date                                                                          \n",
       "2020-06-19      171.66  244.24  162.39  171.66  244.24  162.39    -0.000164   \n",
       "2020-06-22      172.81  246.74  162.41  172.81  246.74  162.41     0.010236   \n",
       "2020-06-23      173.37  248.84  161.30  173.37  248.84  161.30     0.008511   \n",
       "2020-06-24      168.87  243.71  163.03  168.87  243.71  163.03    -0.020616   \n",
       "2020-06-25      170.75  246.03  163.50  170.75  246.03  163.50     0.009520   \n",
       "\n",
       "           TLT % change      20 ema  \n",
       "instrument                           \n",
       "Date                                 \n",
       "2020-06-19     0.000801  170.263548  \n",
       "2020-06-22     0.000123  170.506067  \n",
       "2020-06-23    -0.006835  170.778823  \n",
       "2020-06-24     0.010725  170.597030  \n",
       "2020-06-25     0.002883  170.611599  "
      ]
     },
     "execution_count": 221,
     "metadata": {},
     "output_type": "execute_result"
    }
   ],
   "source": [
    "df1['QQQ % change'] = df1['QQQ'].pct_change()\n",
    "df1['TLT % change'] = df1['TLT'].pct_change()\n",
    "\n",
    "df1['20 ema'] = df1['IWB'].ewm(span=20, adjust = False).mean()\n",
    "\n",
    "df1 = df1.iloc[20:]\n",
    "df1.tail()"
   ]
  },
  {
   "cell_type": "markdown",
   "metadata": {},
   "source": [
    "#### Calculate The Model's Criteria"
   ]
  },
  {
   "cell_type": "code",
   "execution_count": 222,
   "metadata": {},
   "outputs": [
    {
     "data": {
      "text/html": [
       "<div>\n",
       "<style scoped>\n",
       "    .dataframe tbody tr th:only-of-type {\n",
       "        vertical-align: middle;\n",
       "    }\n",
       "\n",
       "    .dataframe tbody tr th {\n",
       "        vertical-align: top;\n",
       "    }\n",
       "\n",
       "    .dataframe thead tr th {\n",
       "        text-align: left;\n",
       "    }\n",
       "\n",
       "    .dataframe thead tr:last-of-type th {\n",
       "        text-align: right;\n",
       "    }\n",
       "</style>\n",
       "<table border=\"1\" class=\"dataframe\">\n",
       "  <thead>\n",
       "    <tr>\n",
       "      <th></th>\n",
       "      <th colspan=\"3\" halign=\"left\">price close</th>\n",
       "      <th>IWB</th>\n",
       "      <th>QQQ</th>\n",
       "      <th>TLT</th>\n",
       "      <th>QQQ % change</th>\n",
       "      <th>TLT % change</th>\n",
       "      <th>20 ema</th>\n",
       "      <th>QQQ criteria</th>\n",
       "      <th>TLT criteria</th>\n",
       "    </tr>\n",
       "    <tr>\n",
       "      <th>instrument</th>\n",
       "      <th>IWB</th>\n",
       "      <th>QQQ.O</th>\n",
       "      <th>TLT.O</th>\n",
       "      <th></th>\n",
       "      <th></th>\n",
       "      <th></th>\n",
       "      <th></th>\n",
       "      <th></th>\n",
       "      <th></th>\n",
       "      <th></th>\n",
       "      <th></th>\n",
       "    </tr>\n",
       "    <tr>\n",
       "      <th>Date</th>\n",
       "      <th></th>\n",
       "      <th></th>\n",
       "      <th></th>\n",
       "      <th></th>\n",
       "      <th></th>\n",
       "      <th></th>\n",
       "      <th></th>\n",
       "      <th></th>\n",
       "      <th></th>\n",
       "      <th></th>\n",
       "      <th></th>\n",
       "    </tr>\n",
       "  </thead>\n",
       "  <tbody>\n",
       "    <tr>\n",
       "      <th>2020-06-19</th>\n",
       "      <td>171.66</td>\n",
       "      <td>244.24</td>\n",
       "      <td>162.39</td>\n",
       "      <td>171.66</td>\n",
       "      <td>244.24</td>\n",
       "      <td>162.39</td>\n",
       "      <td>-0.000164</td>\n",
       "      <td>0.000801</td>\n",
       "      <td>170.263548</td>\n",
       "      <td>True</td>\n",
       "      <td>False</td>\n",
       "    </tr>\n",
       "    <tr>\n",
       "      <th>2020-06-22</th>\n",
       "      <td>172.81</td>\n",
       "      <td>246.74</td>\n",
       "      <td>162.41</td>\n",
       "      <td>172.81</td>\n",
       "      <td>246.74</td>\n",
       "      <td>162.41</td>\n",
       "      <td>0.010236</td>\n",
       "      <td>0.000123</td>\n",
       "      <td>170.506067</td>\n",
       "      <td>True</td>\n",
       "      <td>False</td>\n",
       "    </tr>\n",
       "    <tr>\n",
       "      <th>2020-06-23</th>\n",
       "      <td>173.37</td>\n",
       "      <td>248.84</td>\n",
       "      <td>161.30</td>\n",
       "      <td>173.37</td>\n",
       "      <td>248.84</td>\n",
       "      <td>161.30</td>\n",
       "      <td>0.008511</td>\n",
       "      <td>-0.006835</td>\n",
       "      <td>170.778823</td>\n",
       "      <td>True</td>\n",
       "      <td>False</td>\n",
       "    </tr>\n",
       "    <tr>\n",
       "      <th>2020-06-24</th>\n",
       "      <td>168.87</td>\n",
       "      <td>243.71</td>\n",
       "      <td>163.03</td>\n",
       "      <td>168.87</td>\n",
       "      <td>243.71</td>\n",
       "      <td>163.03</td>\n",
       "      <td>-0.020616</td>\n",
       "      <td>0.010725</td>\n",
       "      <td>170.597030</td>\n",
       "      <td>False</td>\n",
       "      <td>True</td>\n",
       "    </tr>\n",
       "    <tr>\n",
       "      <th>2020-06-25</th>\n",
       "      <td>170.75</td>\n",
       "      <td>246.03</td>\n",
       "      <td>163.50</td>\n",
       "      <td>170.75</td>\n",
       "      <td>246.03</td>\n",
       "      <td>163.50</td>\n",
       "      <td>0.009520</td>\n",
       "      <td>0.002883</td>\n",
       "      <td>170.611599</td>\n",
       "      <td>True</td>\n",
       "      <td>False</td>\n",
       "    </tr>\n",
       "  </tbody>\n",
       "</table>\n",
       "</div>"
      ],
      "text/plain": [
       "           price close                     IWB     QQQ     TLT QQQ % change  \\\n",
       "instrument         IWB   QQQ.O   TLT.O                                        \n",
       "Date                                                                          \n",
       "2020-06-19      171.66  244.24  162.39  171.66  244.24  162.39    -0.000164   \n",
       "2020-06-22      172.81  246.74  162.41  172.81  246.74  162.41     0.010236   \n",
       "2020-06-23      173.37  248.84  161.30  173.37  248.84  161.30     0.008511   \n",
       "2020-06-24      168.87  243.71  163.03  168.87  243.71  163.03    -0.020616   \n",
       "2020-06-25      170.75  246.03  163.50  170.75  246.03  163.50     0.009520   \n",
       "\n",
       "           TLT % change      20 ema QQQ criteria TLT criteria  \n",
       "instrument                                                     \n",
       "Date                                                           \n",
       "2020-06-19     0.000801  170.263548         True        False  \n",
       "2020-06-22     0.000123  170.506067         True        False  \n",
       "2020-06-23    -0.006835  170.778823         True        False  \n",
       "2020-06-24     0.010725  170.597030        False         True  \n",
       "2020-06-25     0.002883  170.611599         True        False  "
      ]
     },
     "execution_count": 222,
     "metadata": {},
     "output_type": "execute_result"
    }
   ],
   "source": [
    "df1['QQQ criteria'] = (df1['IWB'] > df1['20 ema']) \n",
    "df1['TLT criteria'] = np.logical_not(df1['QQQ criteria'])\n",
    "df1.tail()"
   ]
  },
  {
   "cell_type": "markdown",
   "metadata": {},
   "source": [
    "#### Correlation Matrix For IWB, QQQ, and TLT ETFs "
   ]
  },
  {
   "cell_type": "markdown",
   "metadata": {},
   "source": [
    "By looking at the correlation table below since 2004, we can observe that the correlation between US Treasury bonds and US equities is 0.76, which is very high."
   ]
  },
  {
   "cell_type": "code",
   "execution_count": 223,
   "metadata": {},
   "outputs": [
    {
     "data": {
      "text/plain": [
       "Text(0.5, 25.0, '')"
      ]
     },
     "execution_count": 223,
     "metadata": {},
     "output_type": "execute_result"
    },
    {
     "data": {
      "image/png": "[encoded data removed]",
      "text/plain": [
       "<Figure size 540x360 with 2 Axes>"
      ]
     },
     "metadata": {
      "needs_background": "light"
     },
     "output_type": "display_data"
    }
   ],
   "source": [
    "df3 = df1[['IWB','QQQ','TLT','20 ema']]\n",
    "fig, ax = plt.subplots(1, 1, figsize=(7.5,5))\n",
    "sns.heatmap(df3.corr(),vmin=0.1,vmax=1,annot=True)\n",
    "ax.set_title('Correlation: IWB, QQQ, TLT', size=15)\n",
    "ax.set_ylabel('')    \n",
    "ax.set_xlabel('')"
   ]
  },
  {
   "cell_type": "markdown",
   "metadata": {},
   "source": [
    "However, if we look at the correlation over the last four years between equities and bonds, it is drastically lower at 0.31, as seen in the graph below."
   ]
  },
  {
   "cell_type": "code",
   "execution_count": 229,
   "metadata": {},
   "outputs": [
    {
     "data": {
      "image/png": "[encoded data removed]",
      "text/plain": [
       "<PIL.PngImagePlugin.PngImageFile image mode=RGBA size=485x332 at 0x7FB47213FBD0>"
      ]
     },
     "execution_count": 229,
     "metadata": {},
     "output_type": "execute_result"
    }
   ],
   "source": [
    "im = Image.open('CorrEqBd.PNG')\n",
    "im"
   ]
  },
  {
   "cell_type": "markdown",
   "metadata": {},
   "source": [
    "#### Calculate The Model"
   ]
  },
  {
   "cell_type": "code",
   "execution_count": 230,
   "metadata": {},
   "outputs": [],
   "source": [
    "df1['model'] = 100*(1 + (df1['QQQ criteria'].shift(1)*df1['QQQ % change']) + (df1['TLT criteria'].shift(1))*(df1['TLT % change'])).cumprod()"
   ]
  },
  {
   "cell_type": "markdown",
   "metadata": {},
   "source": [
    "#### Calculate The Model's Statistics"
   ]
  },
  {
   "cell_type": "markdown",
   "metadata": {},
   "source": [
    "The backtest does not include trading commissions or fees. The returns are unlevered."
   ]
  },
  {
   "cell_type": "code",
   "execution_count": 231,
   "metadata": {},
   "outputs": [
    {
     "name": "stdout",
     "output_type": "stream",
     "text": [
      "Model yields 19.171432842205014 % per year\n",
      "Max Drawdown -16.16045017505341\n"
     ]
    }
   ],
   "source": [
    "#Average yearly return\n",
    "start_model = df1['model'].iloc[20]\n",
    "end_model = df1['model'].iloc[-1]\n",
    "years = (df1['model'].count()+1-20)/252\n",
    "\n",
    "model_average_return = (end_model/start_model)**(1/years)-1\n",
    "print('Model yields', model_average_return*100, '% per year')\n",
    "\n",
    "#Maximum drawdown\n",
    "df1['drawdown'] = (df1['model']/df1['model'].cummax()-1)*100\n",
    "drawdown = df1['drawdown'].min()\n",
    "print('Max Drawdown', drawdown)"
   ]
  },
  {
   "cell_type": "code",
   "execution_count": 232,
   "metadata": {},
   "outputs": [
    {
     "data": {
      "text/plain": [
       "<matplotlib.axes._subplots.AxesSubplot at 0x7fb478e6b5d0>"
      ]
     },
     "execution_count": 232,
     "metadata": {},
     "output_type": "execute_result"
    },
    {
     "data": {
      "image/png": "[encoded data removed]",
      "text/plain": [
       "<Figure size 1080x360 with 1 Axes>"
      ]
     },
     "metadata": {
      "needs_background": "light"
     },
     "output_type": "display_data"
    }
   ],
   "source": [
    "df1['model'].plot(kind='line', title='Model', logy=True, figsize=(15,5),c='darkblue',linewidth=3)"
   ]
  },
  {
   "cell_type": "code",
   "execution_count": 233,
   "metadata": {},
   "outputs": [
    {
     "data": {
      "text/plain": [
       "<matplotlib.axes._subplots.AxesSubplot at 0x7fb478e5e050>"
      ]
     },
     "execution_count": 233,
     "metadata": {},
     "output_type": "execute_result"
    },
    {
     "data": {
      "image/png": "[encoded data removed]",
      "text/plain": [
       "<Figure size 1080x360 with 1 Axes>"
      ]
     },
     "metadata": {
      "needs_background": "light"
     },
     "output_type": "display_data"
    }
   ],
   "source": [
    "df1['drawdown'].plot(c='k',linewidth=3, title = 'Max Drawdown',figsize=(15,5))"
   ]
  },
  {
   "cell_type": "markdown",
   "metadata": {},
   "source": [
    "In summary, identifying risk-on and risk-off environments to manage risk better is one of the most crucial aspects of investing. Reducing portfolio drawdowns will yield higher compounded returns over the investment life cycle. When the equity index weakens and trades below a particular moving average, we should pay attention. Finally, by timely shifting your weights for equities and bonds, it is possible to keep the maximum portfolio drawdown to less than half the Russell 1000 index during times of duress while generating double-digit returns year over year."
   ]
  },
  {
   "cell_type": "markdown",
   "metadata": {},
   "source": [
    "Good luck with the market! Guillaume, Fierce Research"
   ]
  },
  {
   "cell_type": "code",
   "execution_count": null,
   "metadata": {},
   "outputs": [],
   "source": []
  }
 ],
 "metadata": {
  "kernelspec": {
   "display_name": "Python 3",
   "language": "python",
   "name": "python3"
  },
  "language_info": {
   "codemirror_mode": {
    "name": "ipython",
    "version": 3
   },
   "file_extension": ".py",
   "mimetype": "text/x-python",
   "name": "python",
   "nbconvert_exporter": "python",
   "pygments_lexer": "ipython3",
   "version": "3.7.6"
  }
 },
 "nbformat": 4,
 "nbformat_minor": 4
}
